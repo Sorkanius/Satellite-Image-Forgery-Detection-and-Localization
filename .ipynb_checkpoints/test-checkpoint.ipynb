{
 "cells": [
  {
   "cell_type": "code",
   "execution_count": 1,
   "metadata": {},
   "outputs": [
    {
     "name": "stderr",
     "output_type": "stream",
     "text": [
      "Using TensorFlow backend.\n"
     ]
    },
    {
     "name": "stdout",
     "output_type": "stream",
     "text": [
      "_________________________________________________________________\n",
      "Layer (type)                 Output Shape              Param #   \n",
      "=================================================================\n",
      "conv2d_1 (Conv2D)            (None, 60, 60, 16)        1216      \n",
      "_________________________________________________________________\n",
      "leaky_re_lu_1 (LeakyReLU)    (None, 60, 60, 16)        0         \n",
      "_________________________________________________________________\n",
      "batch_normalization_1 (Batch (None, 60, 60, 16)        64        \n",
      "_________________________________________________________________\n",
      "conv2d_2 (Conv2D)            (None, 30, 30, 16)        1040      \n",
      "_________________________________________________________________\n",
      "leaky_re_lu_2 (LeakyReLU)    (None, 30, 30, 16)        0         \n",
      "_________________________________________________________________\n",
      "batch_normalization_2 (Batch (None, 30, 30, 16)        64        \n",
      "_________________________________________________________________\n",
      "conv2d_3 (Conv2D)            (None, 27, 27, 32)        8224      \n",
      "_________________________________________________________________\n",
      "leaky_re_lu_3 (LeakyReLU)    (None, 27, 27, 32)        0         \n",
      "_________________________________________________________________\n",
      "batch_normalization_3 (Batch (None, 27, 27, 32)        128       \n",
      "_________________________________________________________________\n",
      "conv2d_4 (Conv2D)            (None, 13, 13, 32)        4128      \n",
      "_________________________________________________________________\n",
      "leaky_re_lu_4 (LeakyReLU)    (None, 13, 13, 32)        0         \n",
      "_________________________________________________________________\n",
      "batch_normalization_4 (Batch (None, 13, 13, 32)        128       \n",
      "_________________________________________________________________\n",
      "conv2d_5 (Conv2D)            (None, 11, 11, 64)        18496     \n",
      "_________________________________________________________________\n",
      "leaky_re_lu_5 (LeakyReLU)    (None, 11, 11, 64)        0         \n",
      "_________________________________________________________________\n",
      "batch_normalization_5 (Batch (None, 11, 11, 64)        256       \n",
      "_________________________________________________________________\n",
      "conv2d_6 (Conv2D)            (None, 5, 5, 64)          16448     \n",
      "_________________________________________________________________\n",
      "leaky_re_lu_6 (LeakyReLU)    (None, 5, 5, 64)          0         \n",
      "_________________________________________________________________\n",
      "batch_normalization_6 (Batch (None, 5, 5, 64)          256       \n",
      "_________________________________________________________________\n",
      "flatten_1 (Flatten)          (None, 1600)              0         \n",
      "_________________________________________________________________\n",
      "dense_1 (Dense)              (None, 128)               204928    \n",
      "_________________________________________________________________\n",
      "leaky_re_lu_7 (LeakyReLU)    (None, 128)               0         \n",
      "_________________________________________________________________\n",
      "dense_2 (Dense)              (None, 1)                 129       \n",
      "_________________________________________________________________\n",
      "activation_1 (Activation)    (None, 1)                 0         \n",
      "=================================================================\n",
      "Total params: 255,505\n",
      "Trainable params: 255,057\n",
      "Non-trainable params: 448\n",
      "_________________________________________________________________\n",
      "_________________________________________________________________\n",
      "Layer (type)                 Output Shape              Param #   \n",
      "=================================================================\n",
      "conv2d_7 (Conv2D)            (None, 64, 64, 16)        1744      \n",
      "_________________________________________________________________\n",
      "batch_normalization_7 (Batch (None, 64, 64, 16)        64        \n",
      "_________________________________________________________________\n",
      "conv2d_8 (Conv2D)            (None, 32, 32, 16)        6416      \n",
      "_________________________________________________________________\n",
      "batch_normalization_8 (Batch (None, 32, 32, 16)        64        \n",
      "_________________________________________________________________\n",
      "conv2d_9 (Conv2D)            (None, 16, 16, 32)        8224      \n",
      "_________________________________________________________________\n",
      "batch_normalization_9 (Batch (None, 16, 16, 32)        128       \n",
      "_________________________________________________________________\n",
      "conv2d_10 (Conv2D)           (None, 8, 8, 64)          18496     \n",
      "_________________________________________________________________\n",
      "batch_normalization_10 (Batc (None, 8, 8, 64)          256       \n",
      "_________________________________________________________________\n",
      "conv2d_11 (Conv2D)           (None, 4, 4, 128)         32896     \n",
      "=================================================================\n",
      "Total params: 68,288\n",
      "Trainable params: 68,032\n",
      "Non-trainable params: 256\n",
      "_________________________________________________________________\n",
      "_________________________________________________________________\n",
      "Layer (type)                 Output Shape              Param #   \n",
      "=================================================================\n",
      "conv2d_transpose_1 (Conv2DTr (None, 8, 8, 64)          32832     \n",
      "_________________________________________________________________\n",
      "batch_normalization_11 (Batc (None, 8, 8, 64)          256       \n",
      "_________________________________________________________________\n",
      "conv2d_transpose_2 (Conv2DTr (None, 16, 16, 32)        18464     \n",
      "_________________________________________________________________\n",
      "batch_normalization_12 (Batc (None, 16, 16, 32)        128       \n",
      "_________________________________________________________________\n",
      "conv2d_transpose_3 (Conv2DTr (None, 32, 32, 16)        8208      \n",
      "_________________________________________________________________\n",
      "batch_normalization_13 (Batc (None, 32, 32, 16)        64        \n",
      "_________________________________________________________________\n",
      "conv2d_transpose_4 (Conv2DTr (None, 64, 64, 16)        6416      \n",
      "_________________________________________________________________\n",
      "batch_normalization_14 (Batc (None, 64, 64, 16)        64        \n",
      "_________________________________________________________________\n",
      "conv2d_transpose_5 (Conv2DTr (None, 64, 64, 3)         1731      \n",
      "_________________________________________________________________\n",
      "activation_2 (Activation)    (None, 64, 64, 3)         0         \n",
      "=================================================================\n",
      "Total params: 68,163\n",
      "Trainable params: 67,907\n",
      "Non-trainable params: 256\n",
      "_________________________________________________________________\n",
      "_________________________________________________________________\n",
      "Layer (type)                 Output Shape              Param #   \n",
      "=================================================================\n",
      "input_1 (InputLayer)         (None, 64, 64, 3)         0         \n",
      "_________________________________________________________________\n",
      "sequential_2 (Sequential)    (None, 4, 4, 128)         68288     \n",
      "_________________________________________________________________\n",
      "sequential_3 (Sequential)    (None, 64, 64, 3)         68163     \n",
      "_________________________________________________________________\n",
      "sequential_1 (Sequential)    (None, 1)                 255505    \n",
      "=================================================================\n",
      "Total params: 391,956\n",
      "Trainable params: 135,939\n",
      "Non-trainable params: 256,017\n",
      "_________________________________________________________________\n",
      "['loss', 'sequential_3_loss', 'sequential_1_loss', 'sequential_3_acc', 'sequential_1_acc']\n"
     ]
    }
   ],
   "source": [
    "from adversarial_autoencoder import *\n",
    "aae = AdversarialAutoencoder()"
   ]
  },
  {
   "cell_type": "code",
   "execution_count": 2,
   "metadata": {},
   "outputs": [],
   "source": [
    "aae.autoencoder.load_weights(\"autoencoder.h5\")"
   ]
  },
  {
   "cell_type": "code",
   "execution_count": 3,
   "metadata": {},
   "outputs": [],
   "source": [
    "from skimage.io import imread, imshow\n",
    "import pickle\n",
    "from sklearn.decomposition import PCA\n",
    "\n",
    "# svm_clf = pickle.load(open(\"finalized_model.sav\", \"rb\"))\n",
    "# X = np.load('embeddings.npy')\n",
    "# print(X.shape)\n",
    "# pca = PCA(n_components=3)\n",
    "# pca.fit(X)"
   ]
  },
  {
   "cell_type": "code",
   "execution_count": 28,
   "metadata": {},
   "outputs": [
    {
     "name": "stdout",
     "output_type": "stream",
     "text": [
      "(1, 64, 64, 3)\n"
     ]
    },
    {
     "data": {
      "image/png": "[encoded data removed]",
      "text/plain": [
       "<matplotlib.figure.Figure at 0x7f912f554080>"
      ]
     },
     "metadata": {},
     "output_type": "display_data"
    }
   ],
   "source": [
    "%matplotlib inline\n",
    "imgs = os.listdir(\"pristine_patches\")\n",
    "im = imread(\"pristine_patches/\" + np.random.choice(imgs))\n",
    "plt.subplot(121)\n",
    "plt.imshow(im)\n",
    "if im.shape != (64,64,3):\n",
    "    pass\n",
    "im = (im.astype(np.float32)- 175.0) / (1e-7 + 40.97)\n",
    "encoding = aae.adversarial_autoencoder.layers[1].predict(np.expand_dims(im, 0))\n",
    "restored = aae.adversarial_autoencoder.layers[2].predict(encoding)\n",
    "print(restored.shape)\n",
    "restored = 0.5 * restored + 0.5\n",
    "# encoding = aae.adversarial_autoencoder.layers[1].predict(np.expand_dims(im, 0))\n",
    "# encoding.resize((1, 2048))\n",
    "# en_3d = pca.transform(encoding)\n",
    "# print(svm_clf.predict_proba(en_3d))"
   ]
  },
  {
   "cell_type": "code",
   "execution_count": 29,
   "metadata": {},
   "outputs": [
    {
     "data": {
      "text/plain": [
       "<matplotlib.image.AxesImage at 0x7f9174f55278>"
      ]
     },
     "execution_count": 29,
     "metadata": {},
     "output_type": "execute_result"
    },
    {
     "data": {
      "image/png": "[encoded data removed]",
      "text/plain": [
       "<matplotlib.figure.Figure at 0x7f912f45a748>"
      ]
     },
     "metadata": {},
     "output_type": "display_data"
    }
   ],
   "source": [
    "imshow(np.squeeze(restored))"
   ]
  },
  {
   "cell_type": "code",
   "execution_count": null,
   "metadata": {},
   "outputs": [],
   "source": [
    "import os\n",
    "def sliding_window(image, stepSize, windowSize):\n",
    "    # slide a window across the image\n",
    "    for y in range(0, image.shape[0], stepSize):\n",
    "        for x in range(0, image.shape[1], stepSize):\n",
    "            # yield the current window\n",
    "            left_x = x if x + windowSize[1] < image.shape[1] else image.shape[1] - windowSize[1]\n",
    "            right_x = x + windowSize[1] if x + windowSize[1] < image.shape[1] else image.shape[1]\n",
    "            left_y = y if y + windowSize[0] < image.shape[0] else image.shape[0] - windowSize[0]\n",
    "            right_y = y + windowSize[0] if y + windowSize[0] < image.shape[0] else image.shape[0]\n",
    "            yield (left_x, left_y, image[left_y: right_y, left_x: right_x])\n",
    "                \n",
    "            \n",
    "imgs = os.listdir(\"test_data\")\n",
    "im = imread(\"test_data/\" + np.random.choice(imgs))\n",
    "print(im.shape)\n",
    "imshow(im)\n",
    "mask = np.zeros((640, 640)).astype(np.float32)\n",
    "print(mask.shape)\n",
    "for (x, y, patch) in sliding_window(im, 32, (64, 64)):\n",
    "    patch = patch.astype(np.float32)/255.0\n",
    "    encoding = aae.adversarial_autoencoder.layers[1].predict(np.expand_dims(patch, 0))\n",
    "    encoding.resize((1, 2048))\n",
    "    en_3d = pca.transform(encoding)\n",
    "    probs = svm_clf.predict_proba(en_3d)\n",
    "    mask[y:y+64, x:x+64] = np.maximum(mask[y:y+64, x:x+64], np.ones((64,64), dtype=np.float32) * probs[0][0])\n",
    "    "
   ]
  },
  {
   "cell_type": "code",
   "execution_count": null,
   "metadata": {},
   "outputs": [],
   "source": [
    "imshow(mask)"
   ]
  },
  {
   "cell_type": "code",
   "execution_count": null,
   "metadata": {},
   "outputs": [],
   "source": [
    "X_train = np.load(\"train_patches.npy\")\n",
    "# X_valid = np.load(\"valid_patches.npy\")\n",
    "\n",
    "mean = np.mean(X_train, axis=(0, 1, 2, 3))\n",
    "std = np.std(X_train, axis=(0, 1, 2, 3))"
   ]
  },
  {
   "cell_type": "code",
   "execution_count": null,
   "metadata": {},
   "outputs": [],
   "source": [
    "import os\n",
    "import cv2\n",
    "# test_imgs = np.random.choice(os.listdir(\"forged_patches\"), 500)\n",
    "test_imgs = os.listdir(\"forged_patches\")\n",
    "pristines = []\n",
    "stage = len(test_imgs) // 100\n",
    "cur_stage = 0\n",
    "for i, idx in enumerate(test_imgs):\n",
    "    if (i+1) % 100 == 0:\n",
    "        cur_stage +=1\n",
    "        \n",
    "    print(\"[\" + \"=\"*cur_stage + \" \"*(stage - cur_stage) + \"]\", end='\\r', flush= True)\n",
    "    im = cv2.imread(\"forged_patches/\" + idx)\n",
    "    if im.shape != (64,64,3):\n",
    "        continue\n",
    "    im = im.astype(np.float32)/255.\n",
    "    encoding = aae.adversarial_autoencoder.layers[1].predict(np.expand_dims(im, 0))\n",
    "    encoding = encoding.reshape(2048, 1)\n",
    "    pristines.append(encoding)"
   ]
  },
  {
   "cell_type": "code",
   "execution_count": null,
   "metadata": {},
   "outputs": [],
   "source": [
    "pristines = np.asarray(pristines)\n",
    "print(pristines.shape)"
   ]
  },
  {
   "cell_type": "code",
   "execution_count": null,
   "metadata": {},
   "outputs": [],
   "source": [
    "np.save('forged', np.squeeze(pristines))"
   ]
  },
  {
   "cell_type": "code",
   "execution_count": null,
   "metadata": {},
   "outputs": [],
   "source": [
    "aae.autoencoder.summary()"
   ]
  },
  {
   "cell_type": "code",
   "execution_count": null,
   "metadata": {},
   "outputs": [],
   "source": []
  }
 ],
 "metadata": {
  "kernelspec": {
   "display_name": "Python 3",
   "language": "python",
   "name": "python3"
  },
  "language_info": {
   "codemirror_mode": {
    "name": "ipython",
    "version": 3
   },
   "file_extension": ".py",
   "mimetype": "text/x-python",
   "name": "python",
   "nbconvert_exporter": "python",
   "pygments_lexer": "ipython3",
   "version": "3.5.2"
  }
 },
 "nbformat": 4,
 "nbformat_minor": 2
}
